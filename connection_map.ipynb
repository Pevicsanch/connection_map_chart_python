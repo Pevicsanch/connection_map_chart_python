{
 "cells": [
  {
   "cell_type": "markdown",
   "id": "55ea387a",
   "metadata": {},
   "source": [
    "$~$\n",
    "\n",
    "# Connection Map Chart \n",
    "\n",
    "$~$\n",
    "\n",
    "**this is a pratice project:**\n",
    "\n",
    "$~$\n",
    "\n",
    "let's create a connecition map chart. here were are to reproduce the following [tutorial](https://coderzcolumn.com/tutorials/data-science/how-to-create-connection-map-chart-in-python-jupyter-notebook-plotly-and-geopandas)\n",
    "\n",
    "$~$\n",
    "\n",
    "*credits: coderzcolumn.com*\n",
    "____"
   ]
  },
  {
   "cell_type": "code",
   "execution_count": 1,
   "id": "5372b38f",
   "metadata": {
    "ExecuteTime": {
     "end_time": "2022-03-16T21:36:23.772701Z",
     "start_time": "2022-03-16T21:36:21.179171Z"
    }
   },
   "outputs": [],
   "source": [
    "import pandas as pd\n",
    "import os\n",
    "import geopandas as gpd\n",
    "import matplotlib.pyplot as plt\n",
    "import plotly.graph_objects as go\n",
    "import kaggle\n"
   ]
  },
  {
   "cell_type": "markdown",
   "id": "6f33e6f3",
   "metadata": {},
   "source": [
    "$~$\n",
    "\n",
    "in the tutorial they don't explain how to download the dataset from kaggle, but im doing it using the folloing code:\n",
    "\n",
    "$~$"
   ]
  },
  {
   "cell_type": "markdown",
   "id": "a91ac93c",
   "metadata": {},
   "source": [
    "$~$\n",
    "\n",
    "+ *just to remenber how to search for a dataset in kaggle:*\n",
    "\n",
    "$~$"
   ]
  },
  {
   "cell_type": "code",
   "execution_count": 2,
   "id": "18c20008",
   "metadata": {
    "ExecuteTime": {
     "end_time": "2022-03-16T21:36:30.860043Z",
     "start_time": "2022-03-16T21:36:29.116038Z"
    }
   },
   "outputs": [
    {
     "name": "stdout",
     "output_type": "stream",
     "text": [
      "ref                                                          title                                              size  lastUpdated          downloadCount  voteCount  usabilityRating  \r\n",
      "-----------------------------------------------------------  ------------------------------------------------  -----  -------------------  -------------  ---------  ---------------  \r\n",
      "divyansh22/flight-delay-prediction                           January Flight Delay Prediction                    23MB  2020-04-14 13:15:41           8731        265  1.0              \r\n",
      "usdot/flight-delays                                          2015 Flight Delays and Cancellations              191MB  2017-02-09 21:36:00          77189        859  0.88235295       \r\n",
      "open-flights/flight-route-database                           Flight Route Database                             375KB  2017-08-29 17:19:35           6057        104  0.8235294        \r\n",
      "shubhambathwal/flight-price-prediction                       Flight Price Prediction                             4MB  2022-02-25 17:58:19            975         31  1.0              \r\n",
      "dansbecker/flight-revenue-simulator                          Flight Revenue Simulator                            1KB  2019-05-17 22:31:37           1273         43  0.4375           \r\n",
      "deepankurk/flight-take-off-data-jfk-airport                  Flight Take Off Data - JFK Airport                515KB  2021-06-11 05:26:18            997         23  1.0              \r\n",
      "ohseokkim/flight                                             flight                                             858B  2021-10-09 15:16:19             39         34  0.1764706        \r\n",
      "yuanyuwendymu/airline-delay-and-cancellation-data-2009-2018  Airline Delay and Cancellation Data, 2009 - 2018    2GB  2019-08-11 23:16:29           8912        104  0.85294116       \r\n",
      "nikhilmittal/flight-fare-prediction-mh                       Flight Fare Prediction MH                         626KB  2019-03-15 19:43:45          17467        150  0.11764706       \r\n",
      "divyansh22/february-flight-delay-prediction                  February Flight Delay Prediction                   21MB  2020-05-05 06:16:13            694         23  0.9411765        \r\n",
      "divyansh22/march-flight-delay-prediction                     March Flight Delay Prediction                      24MB  2020-05-26 09:07:21            154         22  0.9411765        \r\n",
      "rowhitswami/feb-2020-us-flight-delay                         Feb 2020 US Flight Delay                            4MB  2020-06-02 16:05:19            175         15  0.9411765        \r\n",
      "ramirobentes/flights-in-brazil                               Flights in Brazil                                  79MB  2017-11-14 20:02:52           3624         95  0.7058824        \r\n",
      "bobirino/flight-delay                                        Flight Delay                                      267MB  2019-01-29 16:31:52            539         12  0.1764706        \r\n",
      "akulbahl/covid19-airline-flight-delays-and-cancellations     COVID-19 Airline Flight Delays and Cancellations  108MB  2020-10-08 01:25:16           1623         34  1.0              \r\n",
      "mrferozi/flight-delays                                       flight delays                                     183KB  2018-08-14 13:40:22           1087          8  0.5294118        \r\n",
      "gauravmehta13/airline-flight-delays                          Airline Flight Delays                             191MB  2020-11-03 02:35:44            326         10  0.88235295       \r\n",
      "sveneschlbeck/new-york-city-airport-activity                 New York City Airport Activity                    734KB  2021-09-21 15:45:43            683         31  1.0              \r\n",
      "harshavarshney/flight-fare                                   Flight Fare                                       178KB  2021-04-22 17:55:49            116         10  0.23529412       \r\n",
      "ianalyticsgeek/flight-passangers-data                        Flight Passangers Data                              7KB  2021-01-15 19:21:38            100          7  0.7058824        \r\n"
     ]
    }
   ],
   "source": [
    "!kaggle datasets list -s \"flight\""
   ]
  },
  {
   "cell_type": "markdown",
   "id": "ee3121de",
   "metadata": {},
   "source": [
    "$~$\n",
    "\n",
    "+ let's define a directory where download the dataset:\n",
    "\n",
    "$~$"
   ]
  },
  {
   "cell_type": "code",
   "execution_count": 11,
   "id": "a7006016",
   "metadata": {
    "ExecuteTime": {
     "end_time": "2022-03-16T21:45:28.559993Z",
     "start_time": "2022-03-16T21:45:28.557090Z"
    }
   },
   "outputs": [],
   "source": [
    "PATH = \"./data\""
   ]
  },
  {
   "cell_type": "markdown",
   "id": "97a16c1f",
   "metadata": {},
   "source": [
    "$~$\n",
    "\n",
    "+ I'm using the same dataset as in the tutorial: \"ramirobentes/flights-in-brazil\n",
    "\n",
    "$~$"
   ]
  },
  {
   "cell_type": "code",
   "execution_count": 4,
   "id": "e91f0870",
   "metadata": {
    "ExecuteTime": {
     "end_time": "2022-03-16T21:17:36.276998Z",
     "start_time": "2022-03-16T21:17:27.959831Z"
    }
   },
   "outputs": [
    {
     "name": "stdout",
     "output_type": "stream",
     "text": [
      "Downloading flights-in-brazil.zip to ./data\n",
      " 95%|███████████████████████████████████▉  | 75.0M/79.3M [00:03<00:00, 30.0MB/s]\n",
      "100%|██████████████████████████████████████| 79.3M/79.3M [00:03<00:00, 25.2MB/s]\n"
     ]
    }
   ],
   "source": [
    "if not os.path.exists(PATH):\n",
    "    os.makedirs(PATH)\n",
    "if not os.listdir(PATH):\n",
    "    !kaggle datasets download -d \"ramirobentes/flights-in-brazil\" --unzip -p $PATH  "
   ]
  },
  {
   "cell_type": "code",
   "execution_count": 12,
   "id": "ee583817",
   "metadata": {
    "ExecuteTime": {
     "end_time": "2022-03-16T21:45:43.930408Z",
     "start_time": "2022-03-16T21:45:43.926680Z"
    }
   },
   "outputs": [
    {
     "name": "stdout",
     "output_type": "stream",
     "text": [
      "./data/BrFlights2.csv\n"
     ]
    }
   ],
   "source": [
    "files = [os.path.join(PATH,f) for f in os.listdir(PATH)]\n",
    "for f in files:\n",
    "    print(f)\n"
   ]
  },
  {
   "cell_type": "markdown",
   "id": "e0284924",
   "metadata": {
    "ExecuteTime": {
     "end_time": "2022-03-16T21:47:47.086833Z",
     "start_time": "2022-03-16T21:47:47.082749Z"
    }
   },
   "source": [
    "$~$\n",
    "\n",
    "+ *In the tutorial they warn that the dataset is very large and that is why they work with a part, however I have not had problems working with the entire dataset.It is important to use the encoding as in the tutorial because otherwise it gives an error*\n",
    "\n",
    "$~$"
   ]
  },
  {
   "cell_type": "code",
   "execution_count": 5,
   "id": "9e12be24",
   "metadata": {
    "ExecuteTime": {
     "end_time": "2022-03-16T21:37:05.774727Z",
     "start_time": "2022-03-16T21:36:57.445191Z"
    }
   },
   "outputs": [],
   "source": [
    "df = pd.read_csv(files[0],encoding=\"latin1\")"
   ]
  },
  {
   "cell_type": "code",
   "execution_count": 6,
   "id": "a46f43d7",
   "metadata": {
    "ExecuteTime": {
     "end_time": "2022-03-16T21:37:11.270664Z",
     "start_time": "2022-03-16T21:37:11.264627Z"
    }
   },
   "outputs": [
    {
     "data": {
      "text/plain": [
       "(2542519, 21)"
      ]
     },
     "execution_count": 6,
     "metadata": {},
     "output_type": "execute_result"
    }
   ],
   "source": [
    "df.shape"
   ]
  },
  {
   "cell_type": "code",
   "execution_count": 7,
   "id": "a8d95692",
   "metadata": {
    "ExecuteTime": {
     "end_time": "2022-03-16T21:37:12.857348Z",
     "start_time": "2022-03-16T21:37:12.835503Z"
    }
   },
   "outputs": [
    {
     "name": "stdout",
     "output_type": "stream",
     "text": [
      "<class 'pandas.core.frame.DataFrame'>\n",
      "RangeIndex: 2542519 entries, 0 to 2542518\n",
      "Data columns (total 21 columns):\n",
      " #   Column                Dtype  \n",
      "---  ------                -----  \n",
      " 0   Voos                  object \n",
      " 1   Companhia.Aerea       object \n",
      " 2   Codigo.Tipo.Linha     object \n",
      " 3   Partida.Prevista      object \n",
      " 4   Partida.Real          object \n",
      " 5   Chegada.Prevista      object \n",
      " 6   Chegada.Real          object \n",
      " 7   Situacao.Voo          object \n",
      " 8   Codigo.Justificativa  object \n",
      " 9   Aeroporto.Origem      object \n",
      " 10  Cidade.Origem         object \n",
      " 11  Estado.Origem         object \n",
      " 12  Pais.Origem           object \n",
      " 13  Aeroporto.Destino     object \n",
      " 14  Cidade.Destino        object \n",
      " 15  Estado.Destino        object \n",
      " 16  Pais.Destino          object \n",
      " 17  LongDest              float64\n",
      " 18  LatDest               float64\n",
      " 19  LongOrig              float64\n",
      " 20  LatOrig               float64\n",
      "dtypes: float64(4), object(17)\n",
      "memory usage: 407.4+ MB\n"
     ]
    }
   ],
   "source": [
    "df.info()"
   ]
  },
  {
   "cell_type": "code",
   "execution_count": 8,
   "id": "5311b1c4",
   "metadata": {
    "ExecuteTime": {
     "end_time": "2022-03-16T21:37:17.140180Z",
     "start_time": "2022-03-16T21:37:17.114342Z"
    }
   },
   "outputs": [
    {
     "data": {
      "text/html": [
       "<div>\n",
       "<style scoped>\n",
       "    .dataframe tbody tr th:only-of-type {\n",
       "        vertical-align: middle;\n",
       "    }\n",
       "\n",
       "    .dataframe tbody tr th {\n",
       "        vertical-align: top;\n",
       "    }\n",
       "\n",
       "    .dataframe thead th {\n",
       "        text-align: right;\n",
       "    }\n",
       "</style>\n",
       "<table border=\"1\" class=\"dataframe\">\n",
       "  <thead>\n",
       "    <tr style=\"text-align: right;\">\n",
       "      <th></th>\n",
       "      <th>Voos</th>\n",
       "      <th>Companhia.Aerea</th>\n",
       "      <th>Codigo.Tipo.Linha</th>\n",
       "      <th>Partida.Prevista</th>\n",
       "      <th>Partida.Real</th>\n",
       "      <th>Chegada.Prevista</th>\n",
       "      <th>Chegada.Real</th>\n",
       "      <th>Situacao.Voo</th>\n",
       "      <th>Codigo.Justificativa</th>\n",
       "      <th>Aeroporto.Origem</th>\n",
       "      <th>...</th>\n",
       "      <th>Estado.Origem</th>\n",
       "      <th>Pais.Origem</th>\n",
       "      <th>Aeroporto.Destino</th>\n",
       "      <th>Cidade.Destino</th>\n",
       "      <th>Estado.Destino</th>\n",
       "      <th>Pais.Destino</th>\n",
       "      <th>LongDest</th>\n",
       "      <th>LatDest</th>\n",
       "      <th>LongOrig</th>\n",
       "      <th>LatOrig</th>\n",
       "    </tr>\n",
       "  </thead>\n",
       "  <tbody>\n",
       "    <tr>\n",
       "      <th>0</th>\n",
       "      <td>AAL - 203</td>\n",
       "      <td>AMERICAN AIRLINES INC</td>\n",
       "      <td>Internacional</td>\n",
       "      <td>2016-01-30T08:58:00Z</td>\n",
       "      <td>2016-01-30T08:58:00Z</td>\n",
       "      <td>2016-01-30T10:35:00Z</td>\n",
       "      <td>2016-01-30T10:35:00Z</td>\n",
       "      <td>Realizado</td>\n",
       "      <td>NaN</td>\n",
       "      <td>Afonso Pena</td>\n",
       "      <td>...</td>\n",
       "      <td>PR</td>\n",
       "      <td>Brasil</td>\n",
       "      <td>Salgado Filho</td>\n",
       "      <td>Porto Alegre</td>\n",
       "      <td>RS</td>\n",
       "      <td>Brasil</td>\n",
       "      <td>-51.175381</td>\n",
       "      <td>-29.993473</td>\n",
       "      <td>-49.172481</td>\n",
       "      <td>-25.532713</td>\n",
       "    </tr>\n",
       "    <tr>\n",
       "      <th>1</th>\n",
       "      <td>AAL - 203</td>\n",
       "      <td>AMERICAN AIRLINES INC</td>\n",
       "      <td>Internacional</td>\n",
       "      <td>2016-01-13T12:13:00Z</td>\n",
       "      <td>2016-01-13T12:13:00Z</td>\n",
       "      <td>2016-01-13T21:30:00Z</td>\n",
       "      <td>2016-01-13T21:30:00Z</td>\n",
       "      <td>Realizado</td>\n",
       "      <td>NaN</td>\n",
       "      <td>Salgado Filho</td>\n",
       "      <td>...</td>\n",
       "      <td>RS</td>\n",
       "      <td>Brasil</td>\n",
       "      <td>Miami</td>\n",
       "      <td>Miami</td>\n",
       "      <td>N/I</td>\n",
       "      <td>Estados Unidos</td>\n",
       "      <td>-80.287046</td>\n",
       "      <td>25.795865</td>\n",
       "      <td>-51.175381</td>\n",
       "      <td>-29.993473</td>\n",
       "    </tr>\n",
       "    <tr>\n",
       "      <th>2</th>\n",
       "      <td>AAL - 203</td>\n",
       "      <td>AMERICAN AIRLINES INC</td>\n",
       "      <td>Internacional</td>\n",
       "      <td>2016-01-29T12:13:00Z</td>\n",
       "      <td>2016-01-29T12:13:00Z</td>\n",
       "      <td>2016-01-29T21:30:00Z</td>\n",
       "      <td>2016-01-29T21:30:00Z</td>\n",
       "      <td>Realizado</td>\n",
       "      <td>NaN</td>\n",
       "      <td>Salgado Filho</td>\n",
       "      <td>...</td>\n",
       "      <td>RS</td>\n",
       "      <td>Brasil</td>\n",
       "      <td>Miami</td>\n",
       "      <td>Miami</td>\n",
       "      <td>N/I</td>\n",
       "      <td>Estados Unidos</td>\n",
       "      <td>-80.287046</td>\n",
       "      <td>25.795865</td>\n",
       "      <td>-51.175381</td>\n",
       "      <td>-29.993473</td>\n",
       "    </tr>\n",
       "    <tr>\n",
       "      <th>3</th>\n",
       "      <td>AAL - 203</td>\n",
       "      <td>AMERICAN AIRLINES INC</td>\n",
       "      <td>Internacional</td>\n",
       "      <td>2016-01-19T12:13:00Z</td>\n",
       "      <td>2016-01-18T12:03:00Z</td>\n",
       "      <td>2016-01-19T21:30:00Z</td>\n",
       "      <td>2016-01-18T20:41:00Z</td>\n",
       "      <td>Realizado</td>\n",
       "      <td>LIBERACAO SERV. TRAFEGO AEREO/ANTECIPACAO</td>\n",
       "      <td>Salgado Filho</td>\n",
       "      <td>...</td>\n",
       "      <td>RS</td>\n",
       "      <td>Brasil</td>\n",
       "      <td>Miami</td>\n",
       "      <td>Miami</td>\n",
       "      <td>N/I</td>\n",
       "      <td>Estados Unidos</td>\n",
       "      <td>-80.287046</td>\n",
       "      <td>25.795865</td>\n",
       "      <td>-51.175381</td>\n",
       "      <td>-29.993473</td>\n",
       "    </tr>\n",
       "    <tr>\n",
       "      <th>4</th>\n",
       "      <td>AAL - 203</td>\n",
       "      <td>AMERICAN AIRLINES INC</td>\n",
       "      <td>Internacional</td>\n",
       "      <td>2016-01-30T12:13:00Z</td>\n",
       "      <td>2016-01-30T12:13:00Z</td>\n",
       "      <td>2016-01-30T21:30:00Z</td>\n",
       "      <td>2016-01-30T21:30:00Z</td>\n",
       "      <td>Realizado</td>\n",
       "      <td>NaN</td>\n",
       "      <td>Salgado Filho</td>\n",
       "      <td>...</td>\n",
       "      <td>RS</td>\n",
       "      <td>Brasil</td>\n",
       "      <td>Miami</td>\n",
       "      <td>Miami</td>\n",
       "      <td>N/I</td>\n",
       "      <td>Estados Unidos</td>\n",
       "      <td>-80.287046</td>\n",
       "      <td>25.795865</td>\n",
       "      <td>-51.175381</td>\n",
       "      <td>-29.993473</td>\n",
       "    </tr>\n",
       "  </tbody>\n",
       "</table>\n",
       "<p>5 rows × 21 columns</p>\n",
       "</div>"
      ],
      "text/plain": [
       "        Voos        Companhia.Aerea Codigo.Tipo.Linha      Partida.Prevista  \\\n",
       "0  AAL - 203  AMERICAN AIRLINES INC     Internacional  2016-01-30T08:58:00Z   \n",
       "1  AAL - 203  AMERICAN AIRLINES INC     Internacional  2016-01-13T12:13:00Z   \n",
       "2  AAL - 203  AMERICAN AIRLINES INC     Internacional  2016-01-29T12:13:00Z   \n",
       "3  AAL - 203  AMERICAN AIRLINES INC     Internacional  2016-01-19T12:13:00Z   \n",
       "4  AAL - 203  AMERICAN AIRLINES INC     Internacional  2016-01-30T12:13:00Z   \n",
       "\n",
       "           Partida.Real      Chegada.Prevista          Chegada.Real  \\\n",
       "0  2016-01-30T08:58:00Z  2016-01-30T10:35:00Z  2016-01-30T10:35:00Z   \n",
       "1  2016-01-13T12:13:00Z  2016-01-13T21:30:00Z  2016-01-13T21:30:00Z   \n",
       "2  2016-01-29T12:13:00Z  2016-01-29T21:30:00Z  2016-01-29T21:30:00Z   \n",
       "3  2016-01-18T12:03:00Z  2016-01-19T21:30:00Z  2016-01-18T20:41:00Z   \n",
       "4  2016-01-30T12:13:00Z  2016-01-30T21:30:00Z  2016-01-30T21:30:00Z   \n",
       "\n",
       "  Situacao.Voo                       Codigo.Justificativa Aeroporto.Origem  \\\n",
       "0    Realizado                                        NaN      Afonso Pena   \n",
       "1    Realizado                                        NaN    Salgado Filho   \n",
       "2    Realizado                                        NaN    Salgado Filho   \n",
       "3    Realizado  LIBERACAO SERV. TRAFEGO AEREO/ANTECIPACAO    Salgado Filho   \n",
       "4    Realizado                                        NaN    Salgado Filho   \n",
       "\n",
       "   ... Estado.Origem Pais.Origem Aeroporto.Destino Cidade.Destino  \\\n",
       "0  ...            PR      Brasil     Salgado Filho   Porto Alegre   \n",
       "1  ...            RS      Brasil             Miami          Miami   \n",
       "2  ...            RS      Brasil             Miami          Miami   \n",
       "3  ...            RS      Brasil             Miami          Miami   \n",
       "4  ...            RS      Brasil             Miami          Miami   \n",
       "\n",
       "  Estado.Destino    Pais.Destino   LongDest    LatDest   LongOrig    LatOrig  \n",
       "0             RS          Brasil -51.175381 -29.993473 -49.172481 -25.532713  \n",
       "1            N/I  Estados Unidos -80.287046  25.795865 -51.175381 -29.993473  \n",
       "2            N/I  Estados Unidos -80.287046  25.795865 -51.175381 -29.993473  \n",
       "3            N/I  Estados Unidos -80.287046  25.795865 -51.175381 -29.993473  \n",
       "4            N/I  Estados Unidos -80.287046  25.795865 -51.175381 -29.993473  \n",
       "\n",
       "[5 rows x 21 columns]"
      ]
     },
     "execution_count": 8,
     "metadata": {},
     "output_type": "execute_result"
    }
   ],
   "source": [
    "df.head()"
   ]
  },
  {
   "cell_type": "markdown",
   "id": "7021fd4c",
   "metadata": {},
   "source": [
    "+ droping columns: keep just the columns we are going to use"
   ]
  },
  {
   "cell_type": "code",
   "execution_count": 14,
   "id": "5c773407",
   "metadata": {
    "ExecuteTime": {
     "end_time": "2022-03-16T21:51:39.891791Z",
     "start_time": "2022-03-16T21:51:39.756710Z"
    }
   },
   "outputs": [],
   "source": [
    "df = df[[\"Voos\", \"Companhia.Aerea\",\"LongDest\",\"LatDest\",\"LongOrig\"\\\n",
    "         ,\"LatOrig\", \"Cidade.Origem\", \"Cidade.Destino\", \"Pais.Origem\", \"Pais.Destino\"]]"
   ]
  },
  {
   "cell_type": "code",
   "execution_count": 10,
   "id": "89baf56c",
   "metadata": {
    "ExecuteTime": {
     "end_time": "2022-03-16T21:37:24.979776Z",
     "start_time": "2022-03-16T21:37:24.975232Z"
    }
   },
   "outputs": [
    {
     "data": {
      "text/plain": [
       "(2542519, 10)"
      ]
     },
     "execution_count": 10,
     "metadata": {},
     "output_type": "execute_result"
    }
   ],
   "source": [
    "df.shape"
   ]
  },
  {
   "cell_type": "code",
   "execution_count": null,
   "id": "ffe7eb12",
   "metadata": {},
   "outputs": [],
   "source": []
  }
 ],
 "metadata": {
  "kernelspec": {
   "display_name": "Python 3 (ipykernel)",
   "language": "python",
   "name": "python3"
  },
  "language_info": {
   "codemirror_mode": {
    "name": "ipython",
    "version": 3
   },
   "file_extension": ".py",
   "mimetype": "text/x-python",
   "name": "python",
   "nbconvert_exporter": "python",
   "pygments_lexer": "ipython3",
   "version": "3.9.7"
  },
  "toc": {
   "base_numbering": 1,
   "nav_menu": {},
   "number_sections": false,
   "sideBar": true,
   "skip_h1_title": false,
   "title_cell": "Table of Contents",
   "title_sidebar": "Contents",
   "toc_cell": false,
   "toc_position": {},
   "toc_section_display": true,
   "toc_window_display": true
  }
 },
 "nbformat": 4,
 "nbformat_minor": 5
}
